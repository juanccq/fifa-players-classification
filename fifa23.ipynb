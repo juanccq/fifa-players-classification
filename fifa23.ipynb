{
 "cells": [
  {
   "cell_type": "code",
   "execution_count": 56,
   "id": "f3f246d5-daef-44d0-8fb9-e7d3235054e9",
   "metadata": {},
   "outputs": [],
   "source": [
    "import pandas as pd\n",
    "import numpy as np\n",
    "\n",
    "pd.set_option('display.max_rows', None)"
   ]
  },
  {
   "cell_type": "code",
   "execution_count": 57,
   "id": "c783109a-2baa-43a9-9583-01b160203dcd",
   "metadata": {
    "scrolled": true
   },
   "outputs": [],
   "source": [
    "data = pd.read_csv('data/fifa_players.csv', low_memory=False)"
   ]
  },
  {
   "cell_type": "code",
   "execution_count": 58,
   "id": "d23df0b2-b4a6-49a6-9b0e-92818baf566b",
   "metadata": {},
   "outputs": [
    {
     "name": "stdout",
     "output_type": "stream",
     "text": [
      "Total filas original 353198\n",
      "Total filtrado 18726\n"
     ]
    }
   ],
   "source": [
    "print('Total filas original', len(data))\n",
    "\n",
    "# filtramos por la fecha de la muestra\n",
    "data = data[ data['date'] == '2024-07-08' ]\n",
    "\n",
    "print('Total filtrado', len(data))"
   ]
  },
  {
   "cell_type": "code",
   "execution_count": 59,
   "id": "b94c0e0a-2125-4163-b0ff-67fd45ba4b89",
   "metadata": {},
   "outputs": [
    {
     "name": "stdout",
     "output_type": "stream",
     "text": [
      "Total duplicados eliminados 18702\n"
     ]
    }
   ],
   "source": [
    "# eliminamos duplicados\n",
    "data.drop_duplicates(inplace=True)\n",
    "print('Total duplicados eliminados', len(data))"
   ]
  },
  {
   "cell_type": "code",
   "execution_count": 60,
   "id": "ebf64ef3-b763-4be0-826e-790c04dca451",
   "metadata": {},
   "outputs": [
    {
     "name": "stdout",
     "output_type": "stream",
     "text": [
      "Cantidad de columnas 82\n"
     ]
    }
   ],
   "source": [
    "# contamos la cantidad de columns\n",
    "print('Cantidad de columnas', len(data.columns))"
   ]
  },
  {
   "cell_type": "code",
   "execution_count": 61,
   "id": "acde2772-54da-4164-8d01-d1c33ec42e42",
   "metadata": {},
   "outputs": [],
   "source": [
    "# eliminamos las columnas que no son de interes\n",
    "data = data.drop(columns=[\n",
    "    'ID', 'date_id', 'player_name', 'name', 'Growth', 'Joined', 'Loan date end', \n",
    "    'date', 'International reputation',\n",
    "    'Real face',\n",
    "    'club_name', 'Wage', 'Release clause', 'start_year', 'end_year'\n",
    "])"
   ]
  },
  {
   "cell_type": "code",
   "execution_count": 62,
   "id": "f772fa80-c751-4454-901e-21f00f9f0a3d",
   "metadata": {},
   "outputs": [],
   "source": [
    "# delete empty columns\n",
    "data = data.drop(columns=['Traits'])"
   ]
  },
  {
   "cell_type": "code",
   "execution_count": 63,
   "id": "c06e971f-8e43-4754-aae4-24452d7ede93",
   "metadata": {},
   "outputs": [],
   "source": [
    "# eliminados datos duplicados\n",
    "data = data.drop(columns=['PlayStyles', 'PlayStyles +', 'Number of playstyles', 'Attacking work rate', 'Defensive work rate'])"
   ]
  },
  {
   "cell_type": "code",
   "execution_count": 64,
   "id": "2dfbdd7a-882e-4d5f-bafd-52e65333e46e",
   "metadata": {},
   "outputs": [],
   "source": [
    "# corregimos la suma de 'Total mentality' deberia sumar 'Composure'\n",
    "data['Total mentality'] = data['Total mentality'].astype(int) + data['Composure'].astype(int)"
   ]
  },
  {
   "cell_type": "code",
   "execution_count": 65,
   "id": "69fe7371-85d8-4c3c-9afa-ab44c0cae5bc",
   "metadata": {},
   "outputs": [],
   "source": [
    "# eliminados los atributos dependientes\n",
    "data = data.drop(columns=['Crossing', 'Finishing', 'Heading accuracy', 'Short passing', 'Volleys'])\n",
    "data = data.drop(columns=['Dribbling', 'Curve', 'FK Accuracy', 'Long passing', 'Ball control'])\n",
    "data = data.drop(columns=['Acceleration', 'Sprint speed', 'Agility', 'Reactions', 'Balance'])\n",
    "data = data.drop(columns=['Shot power', 'Jumping', 'Stamina', 'Strength', 'Long shots'])\n",
    "data = data.drop(columns=['Aggression', 'Interceptions', 'Att. Position', 'Vision', 'Penalties', 'Composure'])\n",
    "data = data.drop(columns=['Defensive awareness', 'Standing tackle', 'Sliding tackle'])\n",
    "data = data.drop(columns=['GK Diving', 'GK Handling', 'GK Kicking', 'GK Positioning', 'GK Reflexes'])"
   ]
  },
  {
   "cell_type": "code",
   "execution_count": 66,
   "id": "ebe68b82-c284-4371-af92-13cea483a755",
   "metadata": {},
   "outputs": [],
   "source": [
    "# aliminamos totalizadores\n",
    "data = data.drop(columns=['Total stats', 'Base stats'])"
   ]
  },
  {
   "cell_type": "code",
   "execution_count": 67,
   "id": "6f22da69-c547-404d-a4b8-457fc83a897d",
   "metadata": {},
   "outputs": [
    {
     "name": "stdout",
     "output_type": "stream",
     "text": [
      "Cantidad final de columnas 25\n",
      "Index(['Age', 'Overall rating', 'Potential', 'Height', 'Weight', 'foot',\n",
      "       'Best overall', 'Best position', 'Value', 'Total attacking',\n",
      "       'Total skill', 'Total movement', 'Total power', 'Total mentality',\n",
      "       'Total defending', 'Total goalkeeping', 'Weak foot', 'Skill moves',\n",
      "       'Body type', 'Pace / Diving', 'Shooting / Handling',\n",
      "       'Passing / Kicking', 'Dribbling / Reflexes', 'Defending / Pace',\n",
      "       'Physical / Positioning'],\n",
      "      dtype='object')\n"
     ]
    }
   ],
   "source": [
    "print('Cantidad final de columnas', len(data.columns))\n",
    "print(data.columns)"
   ]
  },
  {
   "cell_type": "code",
   "execution_count": 7,
   "id": "76e56d13-0c46-41a5-a341-5479030a7493",
   "metadata": {},
   "outputs": [],
   "source": [
    "# definimos una funcion para evaluar sumas y restas\n",
    "def evaluar_suma_resta(valor):\n",
    "    try:\n",
    "        return eval(valor)\n",
    "    except:\n",
    "        return valor"
   ]
  },
  {
   "cell_type": "code",
   "execution_count": 8,
   "id": "b70c5426-453b-4e64-ba23-bf7e0997cea0",
   "metadata": {
    "scrolled": true
   },
   "outputs": [],
   "source": [
    "data['Potential'] = data['Potential'].apply(str)"
   ]
  },
  {
   "cell_type": "code",
   "execution_count": 9,
   "id": "65b98449-0330-4e3c-819e-6dfa58cf9213",
   "metadata": {},
   "outputs": [],
   "source": [
    "# corregimos los valores de 'Potential', ejem: ##-#\n",
    "data['Potential'] = data['Potential'].apply(evaluar_suma_resta)\n",
    "data['Potential'] = data['Potential'].astype(int)"
   ]
  },
  {
   "cell_type": "code",
   "execution_count": 13,
   "id": "42c33f7b-fa18-4708-9182-aa6887c9c873",
   "metadata": {},
   "outputs": [
    {
     "name": "stdout",
     "output_type": "stream",
     "text": [
      "Empty DataFrame\n",
      "Columns: [Age, Overall rating, Potential, Height, Weight, foot, Best overall, Best position, Value, Total attacking, Crossing, Finishing, Heading accuracy, Short passing, Volleys, Total skill, Dribbling, Curve, FK Accuracy, Long passing, Ball control, Total movement, Acceleration, Sprint speed, Agility, Reactions, Balance, Total power, Shot power, Jumping, Stamina, Strength, Long shots, Total mentality, Aggression, Interceptions, Att. Position, Vision, Penalties, Composure, Total defending, Defensive awareness, Standing tackle, Sliding tackle, Total goalkeeping, GK Diving, GK Handling, GK Kicking, GK Positioning, GK Reflexes, Total stats, Base stats, Weak foot, Skill moves, Attacking work rate, Defensive work rate, International reputation, Body type, Real face, Pace / Diving, Shooting / Handling, Passing / Kicking, Dribbling / Reflexes, Defending / Pace, Physical / Positioning]\n",
      "Index: []\n",
      "\n",
      "[0 rows x 65 columns]\n"
     ]
    }
   ],
   "source": [
    "print(data[data['Age'].isnull()])"
   ]
  },
  {
   "cell_type": "code",
   "execution_count": null,
   "id": "afe9ec52-7268-4c32-aeb1-03ac88eb1d11",
   "metadata": {},
   "outputs": [],
   "source": []
  }
 ],
 "metadata": {
  "kernelspec": {
   "display_name": "Python 3 (ipykernel)",
   "language": "python",
   "name": "python3"
  },
  "language_info": {
   "codemirror_mode": {
    "name": "ipython",
    "version": 3
   },
   "file_extension": ".py",
   "mimetype": "text/x-python",
   "name": "python",
   "nbconvert_exporter": "python",
   "pygments_lexer": "ipython3",
   "version": "3.12.3"
  }
 },
 "nbformat": 4,
 "nbformat_minor": 5
}
